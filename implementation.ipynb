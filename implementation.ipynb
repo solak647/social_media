{
 "cells": [
  {
   "cell_type": "code",
   "execution_count": 2,
   "metadata": {},
   "outputs": [],
   "source": [
    "import numpy as np"
   ]
  },
  {
   "cell_type": "code",
   "execution_count": 3,
   "metadata": {},
   "outputs": [],
   "source": [
    "fashion = np.genfromtxt('data/aij_fashion.csv', delimiter=\",\",dtype=int)"
   ]
  },
  {
   "cell_type": "code",
   "execution_count": 173,
   "metadata": {},
   "outputs": [],
   "source": [
    "def format_data(aij_fashion):\n",
    "    data = {}\n",
    "    for (worker,influencer,label) in aij_fashion:\n",
    "        if influencer not in data:\n",
    "            data[influencer] = {}\n",
    "        result_label = [0]\n",
    "        if label == 1:\n",
    "             result_label = [1]\n",
    "        data[influencer][worker] = result_label\n",
    "    return data"
   ]
  },
  {
   "cell_type": "code",
   "execution_count": 174,
   "metadata": {},
   "outputs": [],
   "source": [
    "fashion = format_data(fashion)"
   ]
  },
  {
   "cell_type": "code",
   "execution_count": 175,
   "metadata": {},
   "outputs": [],
   "source": [
    "def fashion_to_counts(fashions):\n",
    "    \"\"\"\n",
    "    Convert a matrix of fashions to count data\n",
    "    Args:\n",
    "        fashions: dictionary of label {influencers:{workers:[labels]}}\n",
    "    Returns:\n",
    "        influencers: list of influencers\n",
    "        workers: list of workers\n",
    "        choices: list of choices (1 or 0 in our case)\n",
    "        counts: 3d array of counts: [influencers x workers]\n",
    "    \"\"\"\n",
    "    influencers = list(fashions)\n",
    "    nInfluencers = len(influencers)\n",
    "\n",
    "    workers = set()\n",
    "    choices = set()\n",
    "    for i in influencers:\n",
    "        i_workers = list(fashions[i])\n",
    "        for k in i_workers:\n",
    "            if k not in workers:\n",
    "                workers.add(k)\n",
    "            ik_label = fashions[i][k]\n",
    "            choices.update(ik_label)\n",
    "\n",
    "    choices = list(choices)\n",
    "    choices.sort()\n",
    "    nChoices = len(choices)\n",
    "    \n",
    "    workers = list(workers)\n",
    "    nWorkers = len(workers)\n",
    "\n",
    "    # create a 3d array to hold counts\n",
    "    counts = np.zeros([nInfluencers, nWorkers, nChoices])\n",
    "\n",
    "    # convert responses to counts\n",
    "    for influencer in influencers:\n",
    "        i = influencers.index(influencer)\n",
    "        for worker in fashions[influencer].keys():\n",
    "            k = workers.index(worker)\n",
    "            for label in fashions[influencer][worker]:\n",
    "                j = choices.index(label)\n",
    "                counts[i, k, j] += 1\n",
    "\n",
    "    return (influencers, workers, choices, counts)"
   ]
  },
  {
   "cell_type": "code",
   "execution_count": 176,
   "metadata": {},
   "outputs": [],
   "source": [
    "(influencers, workers, choices, counts) = fashion_to_counts(fashion)"
   ]
  },
  {
   "cell_type": "code",
   "execution_count": 177,
   "metadata": {},
   "outputs": [],
   "source": [
    "def majority_voting(counts):\n",
    "    [nInfluencers, nWorkers, nChoices] = np.shape(counts)\n",
    "    responses_sums = np.sum(counts, 1)\n",
    "    result = np.zeros([nInfluencers, nChoices])\n",
    "    for p in range(nInfluencers):\n",
    "        result[p, :] = responses_sums[p, :] / np.sum(responses_sums[p, :], dtype=float)\n",
    "    return result"
   ]
  },
  {
   "cell_type": "code",
   "execution_count": 178,
   "metadata": {},
   "outputs": [],
   "source": [
    "influencers_label = majority_voting(counts)"
   ]
  },
  {
   "cell_type": "code",
   "execution_count": 1,
   "metadata": {},
   "outputs": [
    {
     "ename": "NameError",
     "evalue": "name 'influencers_label' is not defined",
     "output_type": "error",
     "traceback": [
      "\u001b[0;31m---------------------------------------------------------------------------\u001b[0m",
      "\u001b[0;31mNameError\u001b[0m                                 Traceback (most recent call last)",
      "\u001b[0;32m<ipython-input-1-ff076f7f74f8>\u001b[0m in \u001b[0;36m<module>\u001b[0;34m\u001b[0m\n\u001b[0;32m----> 1\u001b[0;31m \u001b[0minfluencers_label\u001b[0m\u001b[0;34m\u001b[0m\u001b[0;34m\u001b[0m\u001b[0m\n\u001b[0m",
      "\u001b[0;31mNameError\u001b[0m: name 'influencers_label' is not defined"
     ]
    }
   ],
   "source": [
    "influencers_label"
   ]
  },
  {
   "cell_type": "code",
   "execution_count": 180,
   "metadata": {},
   "outputs": [],
   "source": [
    "def m_step(counts, influencers_label):\n",
    "    [nInfluencers, nWorkers, nChoices] = np.shape(counts)\n",
    "\n",
    "    # compute class marginals\n",
    "    class_marginals = np.sum(influencers_label, 0) / float(nInfluencers)\n",
    "\n",
    "    # compute error rates\n",
    "    error_rates = np.zeros([nWorkers, nChoices, nChoices])\n",
    "    for k in range(nWorkers):\n",
    "        for j in range(nChoices):\n",
    "            for l in range(nChoices):\n",
    "                error_rates[k, j, l] = np.dot(\n",
    "                    influencers_label[:, j], counts[:, k, l])\n",
    "            sum_over_responses = np.sum(error_rates[k, j, :])\n",
    "            if sum_over_responses > 0:\n",
    "                error_rates[k, j, :] = error_rates[\n",
    "                    k, j, :] / float(sum_over_responses)\n",
    "\n",
    "    return (class_marginals, error_rates)"
   ]
  },
  {
   "cell_type": "code",
   "execution_count": 181,
   "metadata": {},
   "outputs": [],
   "source": [
    "(class_marginals, error_rates) = m_step(counts,influencers_label)"
   ]
  },
  {
   "cell_type": "code",
   "execution_count": 185,
   "metadata": {},
   "outputs": [],
   "source": [
    "def e_step(counts, class_marginals, error_rates):\n",
    "    [nInfluencers, nWorkers, nChoices] = np.shape(counts)\n",
    "\n",
    "    influencers_label = np.zeros([nInfluencers, nChoices])\n",
    "\n",
    "    for i in range(nInfluencers):\n",
    "        for j in range(nChoices):\n",
    "            estimate = class_marginals[j]\n",
    "            estimate *= np.prod(np.power(error_rates[:, j, :], counts[i, :, :]))\n",
    "            influencers_label[i, j] = estimate\n",
    "        question_sum = np.sum(influencers_label[i, :])\n",
    "        if question_sum > 0:\n",
    "            influencers_label[i, :] = influencers_label[i, :] / float(question_sum)\n",
    "    return influencers_label"
   ]
  },
  {
   "cell_type": "code",
   "execution_count": 183,
   "metadata": {},
   "outputs": [],
   "source": [
    "influencers_label = e_step(counts, class_marginals, error_rates)"
   ]
  },
  {
   "cell_type": "code",
   "execution_count": 184,
   "metadata": {},
   "outputs": [
    {
     "data": {
      "text/plain": [
       "array([[9.96818451e-01, 3.18154879e-03],\n",
       "       [3.67969483e-07, 9.99999632e-01],\n",
       "       [9.99680657e-01, 3.19343028e-04],\n",
       "       ...,\n",
       "       [9.99272876e-01, 7.27124197e-04],\n",
       "       [9.99556229e-01, 4.43770599e-04],\n",
       "       [9.99904300e-01, 9.57003684e-05]])"
      ]
     },
     "execution_count": 184,
     "metadata": {},
     "output_type": "execute_result"
    }
   ],
   "source": [
    "influencers_label"
   ]
  },
  {
   "cell_type": "code",
   "execution_count": 4,
   "metadata": {},
   "outputs": [
    {
     "name": "stdout",
     "output_type": "stream",
     "text": [
      "1 \t -8076.233137050091\n",
      "2 \t -7836.089021402673 \t0.045172\t14.878785\n",
      "3 \t -7820.205137613682 \t0.009740\t2.941154\n",
      "4 \t -7814.963102801673 \t0.006388\t1.642807\n",
      "5 \t -7813.45373362262 \t0.003417\t0.779985\n",
      "6 \t -7811.568698459982 \t0.002312\t0.572327\n",
      "7 \t -7808.159271230666 \t0.002686\t0.691574\n",
      "8 \t -7806.035938694625 \t0.002892\t0.732018\n",
      "9 \t -7805.482047327452 \t0.001549\t0.336119\n",
      "10 \t -7805.319430473255 \t0.000805\t0.165676\n",
      "11 \t -7805.219237337406 \t0.000564\t0.123869\n",
      "12 \t -7805.1467182919305 \t0.000429\t0.095837\n",
      "13 \t -7805.090285898312 \t0.000343\t0.076959\n",
      "14 \t -7805.036993576848 \t0.000301\t0.067951\n",
      "15 \t -7804.977476897134 \t0.000289\t0.067074\n",
      "16 \t -7804.911759426238 \t0.000279\t0.065799\n",
      "17 \t -7804.851529640802 \t0.000243\t0.057210\n",
      "18 \t -7804.809665505912 \t0.000177\t0.041241\n",
      "19 \t -7804.78724372634 \t0.000107\t0.024653\n",
      "20 \t -7804.777179377221 \t0.000058\t0.013212\n",
      "21 \t -7804.773057458034 \t0.000030\t0.007018\n",
      "22 \t -7804.7714326358855 \t0.000017\t0.003977\n",
      "23 \t -7804.770799308372 \t0.000010\t0.002473\n",
      "24 \t -7804.7705518151215 \t0.000007\t0.001674\n",
      "25 \t -7804.770453954259 \t0.000005\t0.001219\n",
      "26 \t -7804.770414456564 \t0.000004\t0.000922\n",
      "27 \t -7804.770398022386 \t0.000003\t0.000710\n",
      "28 \t -7804.7703908963995 \t0.000002\t0.000551\n",
      "29 \t -7804.770387644483 \t0.000002\t0.000429\n",
      "30 \t -7804.770386073082 \t0.000001\t0.000335\n",
      "31 \t -7804.7703852689465 \t0.000001\t0.000262\n",
      "32 \t -7804.770384835765 \t0.000001\t0.000205\n",
      "33 \t -7804.770384592499 \t0.000001\t0.000161\n",
      "34 \t -7804.770384451617 \t0.000000\t0.000126\n",
      "35 \t -7804.770384368197 \t0.000000\t0.000099\n",
      "36 \t -7804.770384318054 \t0.000000\t0.000078\n",
      "37 \t -7804.770384287736 \t0.000000\t0.000061\n",
      "38 \t -7804.77038426919 \t0.000000\t0.000048\n",
      "39 \t -7804.77038425776 \t0.000000\t0.000038\n",
      "40 \t -7804.770384250813 \t0.000000\t0.000030\n",
      "41 \t -7804.770384246524 \t0.000000\t0.000023\n",
      "[0 1 0 0 0 0 0 0 1 0 0 0 1 0 0 0 1 0 0 0 0 0 1 1 0 0 0 0 0 0 0 0 1 0 0 0 0\n",
      " 0 0 0 1 0 0 1 0 0 0 1 0 0 0 0 0 0 0 0 0 0 0 0 0 0 1 0 0 0 0 0 0 1 0 0 0 0\n",
      " 0 0 1 0 0 0 0 0 0 0 0 1 0 0 0 0 0 0 0 1 0 1 0 0 0 0 0 0 0 0 1 0 0 0 0 0 1\n",
      " 0 0 0 1 0 0 0 0 0 0 0 0 0 0 0 0 0 0 0 0 0 0 0 0 0 0 0 0 0 0 0 0 0 0 0 0 0\n",
      " 1 0 0 1 0 0 0 0 0 0 0 0 0 0 0 0 0 0 0 0 0 0 0 0 0 0 0 0 0 0 0 0 0 0 0 0 0\n",
      " 0 0 0 0 0 0 0 0 0 1 0 0 0 0 0 0 0 1 0 0 0 1 0 0 0 0 0 0 0 0 0 0 0 0 0 0 0\n",
      " 0 0 1 0 0 0 0 0 1 0 0 0 0 0 0 0 0 1 1 0 0 0 0 0 0 1 1 0 0 0 0 0 0 0 0 0 0\n",
      " 0 0 1 0 0 0 0 0 0 0 0 0 0 0 0 0 0 0 0 0 0 0 0 0 0 0 0 0 0 0 0 0 0 0 1 0 0\n",
      " 0 0 0 0 0 0 0 0 0 0 0 0 0 0 0 0 0 0 0 0 0 1 0 0 0 0 0 0 0 0 0 0 0 0 0 0 0\n",
      " 0 0 0 0 0 0 0 0 0 0 0 0 0 0 0 0 0 0 0 0 0 0 0 0 0 0 0 0 0 1 0 0 0 0 0 0 0\n",
      " 0 0 0 1 0 0 0 0 0 0 0 0 0 0 0 0 0 0 0 0 0 0 0 0 0 0 0 0 0 0 0 0 0 0 0 0 0\n",
      " 0 0 1 0 0 0 0 0 0 0 0 0 0 0 0 0 0 0 0 0 0 0 0 0 0 0 0 0 0 0 0 0 0 0 0 0 0\n",
      " 0 0 0 0 0 0 0 0 0 0 0 0 0 0 0 0 0 0 0 0 0 0 0 0 0 0 0 0 0 0 0 0 0 0 0 0 0\n",
      " 1 0 0 0 0 0 0 0 0 1 0 0 0 0 0 0 0 0 0 0 0 0 0 0 0 0 0 0 0 0 1 0 0 0 0 0 0\n",
      " 0 0 0 0 0 0 0 0 0 0 0 0 0 0 0 0 0 0 0 0 0 0 0 0 0 0 0 0 0 0 0 0 0 0 0 0 0\n",
      " 0 0 0 0 0 0 0 0 0 0 0 0 0 0 0 0 0 0 0 0 0 0 0 0 0 0 0 0 0 0 0 0 0 0 0 0 0\n",
      " 0 0 0 0 0 0 0 0 0 0 0 0 0 0 0 0 0 0 0 0 0 0 0 0 0 0 0 0 0 0 0 0 0 0 0 0 0\n",
      " 0 0 0 0 0 0 0 0 0 0 0 0 0 0 0 0 0 0 0 0 0 0 0 0 0 0 0 0 0 0 0 0 0 0 0 0 0\n",
      " 0 0 0 0 0 0 0 0 0 0 1 0 0 0 0 0 0 0 0 0 0 0 0 0 0 0 0 0 0 0 0 0 0 0 0 0 0\n",
      " 0 0 0 0 0 0 0 0 0 0 0 0 0 0 0 0 0 0 0 0 0 0 0 0 0 0 0 0 0 0 0 0 0 0 0 0 0\n",
      " 0 0 0 0 0 0 0 0 0 0 0 0 0 0 0 0 0 0 0 0 0 0 0 0 0 0 0 0 0 0 0 0 0 0 0 0 0\n",
      " 0 0 0 0 0 0 0 0 0 0 0 0 0 0 0 0 0 0 0 0 0 0 0 0 0 0 0 0 0 0 0 0 0 0 0 0 0\n",
      " 0 0 0 0 0 0 0 0 0 0 0 0 0 0 0 0 0 0 0 0 0 0 0 0 0 0 0 0 0 0 0 0 0 0 0 0 0\n",
      " 0 0 0 0 0 0 0 0 0 0 0 0 0 0 0 0 0 0 0 0 0 0 0 0 0 0 0 0 0 0 0 0 0 0 0 0 0\n",
      " 0 0]\n"
     ]
    }
   ],
   "source": [
    "import main"
   ]
  },
  {
   "cell_type": "code",
   "execution_count": null,
   "metadata": {},
   "outputs": [],
   "source": []
  }
 ],
 "metadata": {
  "kernelspec": {
   "display_name": "Python 3",
   "language": "python",
   "name": "python3"
  },
  "language_info": {
   "codemirror_mode": {
    "name": "ipython",
    "version": 3
   },
   "file_extension": ".py",
   "mimetype": "text/x-python",
   "name": "python",
   "nbconvert_exporter": "python",
   "pygments_lexer": "ipython3",
   "version": "3.6.8"
  }
 },
 "nbformat": 4,
 "nbformat_minor": 2
}
