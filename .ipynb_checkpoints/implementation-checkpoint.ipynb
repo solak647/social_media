{
 "cells": [
  {
   "cell_type": "code",
   "execution_count": 1,
   "metadata": {},
   "outputs": [],
   "source": [
    "data = [\n",
    "        [0,0,1],\n",
    "        [0,1,0],\n",
    "        [1,0,0],\n",
    "        [1,1,1],\n",
    "        [2,0,1],\n",
    "        [2,0,0]\n",
    "       ]"
   ]
  },
  {
   "cell_type": "code",
   "execution_count": null,
   "metadata": {},
   "outputs": [],
   "source": [
    "def majority_voting(data):\n",
    "    \"\"\"\n",
    "    Get majority voting estimates for the true classes using counts\n",
    "    Args:\n",
    "        counts: counts of the number of times each response was received \n",
    "            by each question from each participant: [questions x participants x classes]\n",
    "    Returns:\n",
    "        question_classes: matrix of estimates of true classes:\n",
    "            [questions x responses] \n",
    "    \"\"\"\n",
    "    [nQuestions, nParticipants, nClasses] = np.shape(counts)\n",
    "    response_sums = np.sum(counts, 1)\n",
    "    question_classes = np.zeros([nQuestions, nClasses])\n",
    "    for p in range(nQuestions):\n",
    "        indices = np.argwhere(response_sums[p, :] == np.max(\n",
    "            response_sums[p, :])).flatten()\n",
    "        question_classes[p, np.random.choice(indices)] = 1\n",
    "\n",
    "return question_classes"
   ]
  }
 ],
 "metadata": {
  "kernelspec": {
   "display_name": "Python 3",
   "language": "python",
   "name": "python3"
  },
  "language_info": {
   "codemirror_mode": {
    "name": "ipython",
    "version": 3
   },
   "file_extension": ".py",
   "mimetype": "text/x-python",
   "name": "python",
   "nbconvert_exporter": "python",
   "pygments_lexer": "ipython3",
   "version": "3.7.1"
  }
 },
 "nbformat": 4,
 "nbformat_minor": 2
}
