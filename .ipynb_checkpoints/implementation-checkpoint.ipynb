{
 "cells": [
  {
   "cell_type": "code",
   "execution_count": 171,
   "metadata": {},
   "outputs": [],
   "source": [
    "import numpy as np"
   ]
  },
  {
   "cell_type": "code",
   "execution_count": 172,
   "metadata": {},
   "outputs": [],
   "source": [
    "fashion = np.genfromtxt('data/aij_fashion.csv', delimiter=\",\",dtype=int)"
   ]
  },
  {
   "cell_type": "code",
   "execution_count": 173,
   "metadata": {},
   "outputs": [],
   "source": [
    "def format_data(aij_fashion):\n",
    "    data = {}\n",
    "    for (worker,influencer,label) in aij_fashion:\n",
    "        if influencer not in data:\n",
    "            data[influencer] = {}\n",
    "        result_label = [0]\n",
    "        if label == 1:\n",
    "             result_label = [1]\n",
    "        data[influencer][worker] = result_label\n",
    "    return data"
   ]
  },
  {
   "cell_type": "code",
   "execution_count": 174,
   "metadata": {},
   "outputs": [],
   "source": [
    "fashion = format_data(fashion)"
   ]
  },
  {
   "cell_type": "code",
   "execution_count": 175,
   "metadata": {},
   "outputs": [],
   "source": [
    "def fashion_to_counts(fashions):\n",
    "    \"\"\"\n",
    "    Convert a matrix of fashions to count data\n",
    "    Args:\n",
    "        fashions: dictionary of label {influencers:{workers:[labels]}}\n",
    "    Returns:\n",
    "        influencers: list of influencers\n",
    "        workers: list of workers\n",
    "        choices: list of choices (1 or 0 in our case)\n",
    "        counts: 3d array of counts: [influencers x workers]\n",
    "    \"\"\"\n",
    "    influencers = list(fashions)\n",
    "    nInfluencers = len(influencers)\n",
    "\n",
    "    workers = set()\n",
    "    choices = set()\n",
    "    for i in influencers:\n",
    "        i_workers = list(fashions[i])\n",
    "        for k in i_workers:\n",
    "            if k not in workers:\n",
    "                workers.add(k)\n",
    "            ik_label = fashions[i][k]\n",
    "            choices.update(ik_label)\n",
    "\n",
    "    choices = list(choices)\n",
    "    choices.sort()\n",
    "    nChoices = len(choices)\n",
    "    \n",
    "    workers = list(workers)\n",
    "    nWorkers = len(workers)\n",
    "\n",
    "    # create a 3d array to hold counts\n",
    "    counts = np.zeros([nInfluencers, nWorkers, nChoices])\n",
    "\n",
    "    # convert responses to counts\n",
    "    for influencer in influencers:\n",
    "        i = influencers.index(influencer)\n",
    "        for worker in fashions[influencer].keys():\n",
    "            k = workers.index(worker)\n",
    "            for label in fashions[influencer][worker]:\n",
    "                j = choices.index(label)\n",
    "                counts[i, k, j] += 1\n",
    "\n",
    "    return (influencers, workers, choices, counts)"
   ]
  },
  {
   "cell_type": "code",
   "execution_count": 176,
   "metadata": {},
   "outputs": [],
   "source": [
    "(influencers, workers, choices, counts) = fashion_to_counts(fashion)"
   ]
  },
  {
   "cell_type": "code",
   "execution_count": 177,
   "metadata": {},
   "outputs": [],
   "source": [
    "def majority_voting(counts):\n",
    "    [nInfluencers, nWorkers, nChoices] = np.shape(counts)\n",
    "    responses_sums = np.sum(counts, 1)\n",
    "    result = np.zeros([nInfluencers, nChoices])\n",
    "    for p in range(nInfluencers):\n",
    "        result[p, :] = responses_sums[p, :] / np.sum(responses_sums[p, :], dtype=float)\n",
    "    return result"
   ]
  },
  {
   "cell_type": "code",
   "execution_count": 178,
   "metadata": {},
   "outputs": [],
   "source": [
    "influencers_label = majority_voting(counts)"
   ]
  },
  {
   "cell_type": "code",
   "execution_count": 179,
   "metadata": {},
   "outputs": [
    {
     "data": {
      "text/plain": [
       "array([[0.98770492, 0.01229508],\n",
       "       [0.95081967, 0.04918033],\n",
       "       [0.99180328, 0.00819672],\n",
       "       ...,\n",
       "       [0.99590164, 0.00409836],\n",
       "       [0.99590164, 0.00409836],\n",
       "       [0.99590164, 0.00409836]])"
      ]
     },
     "execution_count": 179,
     "metadata": {},
     "output_type": "execute_result"
    }
   ],
   "source": [
    "influencers_label"
   ]
  },
  {
   "cell_type": "code",
   "execution_count": 180,
   "metadata": {},
   "outputs": [],
   "source": [
    "def m_step(counts, influencers_label):\n",
    "    [nInfluencers, nWorkers, nChoices] = np.shape(counts)\n",
    "\n",
    "    # compute class marginals\n",
    "    class_marginals = np.sum(influencers_label, 0) / float(nInfluencers)\n",
    "\n",
    "    # compute error rates\n",
    "    error_rates = np.zeros([nWorkers, nChoices, nChoices])\n",
    "    for k in range(nWorkers):\n",
    "        for j in range(nChoices):\n",
    "            for l in range(nChoices):\n",
    "                error_rates[k, j, l] = np.dot(\n",
    "                    influencers_label[:, j], counts[:, k, l])\n",
    "            sum_over_responses = np.sum(error_rates[k, j, :])\n",
    "            if sum_over_responses > 0:\n",
    "                error_rates[k, j, :] = error_rates[\n",
    "                    k, j, :] / float(sum_over_responses)\n",
    "\n",
    "    return (class_marginals, error_rates)"
   ]
  },
  {
   "cell_type": "code",
   "execution_count": 181,
   "metadata": {},
   "outputs": [],
   "source": [
    "(class_marginals, error_rates) = m_step(counts,influencers_label)"
   ]
  },
  {
   "cell_type": "code",
   "execution_count": 185,
   "metadata": {},
   "outputs": [],
   "source": [
    "def e_step(counts, class_marginals, error_rates):\n",
    "    [nInfluencers, nWorkers, nChoices] = np.shape(counts)\n",
    "\n",
    "    influencers_label = np.zeros([nInfluencers, nChoices])\n",
    "\n",
    "    for i in range(nInfluencers):\n",
    "        for j in range(nChoices):\n",
    "            estimate = class_marginals[j]\n",
    "            estimate *= np.prod(np.power(error_rates[:, j, :], counts[i, :, :]))\n",
    "            influencers_label[i, j] = estimate\n",
    "        question_sum = np.sum(influencers_label[i, :])\n",
    "        if question_sum > 0:\n",
    "            influencers_label[i, :] = influencers_label[i, :] / float(question_sum)\n",
    "    return influencers_label"
   ]
  },
  {
   "cell_type": "code",
   "execution_count": 183,
   "metadata": {},
   "outputs": [],
   "source": [
    "influencers_label = e_step(counts, class_marginals, error_rates)"
   ]
  },
  {
   "cell_type": "code",
   "execution_count": 184,
   "metadata": {},
   "outputs": [
    {
     "data": {
      "text/plain": [
       "array([[9.96818451e-01, 3.18154879e-03],\n",
       "       [3.67969483e-07, 9.99999632e-01],\n",
       "       [9.99680657e-01, 3.19343028e-04],\n",
       "       ...,\n",
       "       [9.99272876e-01, 7.27124197e-04],\n",
       "       [9.99556229e-01, 4.43770599e-04],\n",
       "       [9.99904300e-01, 9.57003684e-05]])"
      ]
     },
     "execution_count": 184,
     "metadata": {},
     "output_type": "execute_result"
    }
   ],
   "source": [
    "influencers_label"
   ]
  },
  {
   "cell_type": "code",
   "execution_count": null,
   "metadata": {},
   "outputs": [],
   "source": []
  }
 ],
 "metadata": {
  "kernelspec": {
   "display_name": "Python 3",
   "language": "python",
   "name": "python3"
  },
  "language_info": {
   "codemirror_mode": {
    "name": "ipython",
    "version": 3
   },
   "file_extension": ".py",
   "mimetype": "text/x-python",
   "name": "python",
   "nbconvert_exporter": "python",
   "pygments_lexer": "ipython3",
   "version": "3.7.1"
  }
 },
 "nbformat": 4,
 "nbformat_minor": 2
}
